{
 "cells": [
  {
   "cell_type": "markdown",
   "metadata": {},
   "source": [
    "Data & Package Load"
   ]
  },
  {
   "cell_type": "code",
   "execution_count": 8,
   "metadata": {},
   "outputs": [
    {
     "name": "stdout",
     "output_type": "stream",
     "text": [
      "Diabetes_binary\n",
      "1    108903\n",
      "0     48748\n",
      "Name: count, dtype: int64\n"
     ]
    }
   ],
   "source": [
    "# Import libraries\n",
    "import pandas as pd\n",
    "from imblearn.combine import SMOTEENN\n",
    "from sklearn.model_selection import train_test_split\n",
    "\n",
    "# Read the Full Dataset (Clustered + Feature Engineering) data file\n",
    "df = pd.read_csv(\"https://raw.githubusercontent.com/NumanESchulich/SchulichDataScience/main/Data%20Science%20I%20(MBAN%206110T)/Group%20Assignment/Datasets/Full%20Dataset%20(Clustered%20%2B%20Feature%20Engineering).csv\")\n",
    "\n",
    "# Define features and target\n",
    "X = df.drop('Diabetes_binary', axis=1)\n",
    "y = df['Diabetes_binary']\n",
    "\n",
    "# Split the dataset into training and testing sets\n",
    "X_train, X_test, y_train, y_test = train_test_split(X, y, test_size=0.2, random_state=42, stratify=y)\n",
    "\n",
    "# Apply SMOTEENN to the training data\n",
    "smote_enn = SMOTEENN(sampling_strategy=1.0, random_state=42)\n",
    "X_train_res, y_train_res = smote_enn.fit_resample(X_train, y_train)\n",
    "\n",
    "# Combine the resampled features and target into a single dataframe\n",
    "resampled_train_data = pd.concat([pd.DataFrame(X_train_res, columns=X.columns), pd.Series(y_train_res, name='Diabetes_binary')], axis=1)\n",
    "\n",
    "# Combine the original test features and target into a single dataframe\n",
    "test_data = pd.concat([X_test.reset_index(drop=True), y_test.reset_index(drop=True)], axis=1)\n",
    "\n",
    "# Display the value counts to check the new distribution\n",
    "print(resampled_train_data['Diabetes_binary'].value_counts())\n",
    "\n",
    "# Save the resampled training data to a CSV file\n",
    "resampled_train_file_path = r\"C:\\Users\\Numan\\Desktop\\Resampled_Train_Data_with_SMOTEENN.csv\"\n",
    "resampled_train_data.to_csv(resampled_train_file_path, index=False)\n",
    "\n",
    "# Save the original test data to a CSV file\n",
    "test_data_file_path = r\"C:\\Users\\Numan\\Desktop\\Untouched_Test_Data.csv\"\n",
    "test_data.to_csv(test_data_file_path, index=False)"
   ]
  }
 ],
 "metadata": {
  "kernelspec": {
   "display_name": "Python 3",
   "language": "python",
   "name": "python3"
  },
  "language_info": {
   "codemirror_mode": {
    "name": "ipython",
    "version": 3
   },
   "file_extension": ".py",
   "mimetype": "text/x-python",
   "name": "python",
   "nbconvert_exporter": "python",
   "pygments_lexer": "ipython3",
   "version": "3.12.0"
  }
 },
 "nbformat": 4,
 "nbformat_minor": 2
}
