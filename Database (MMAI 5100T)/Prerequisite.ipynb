{
 "cells": [
  {
   "cell_type": "code",
   "execution_count": 1,
   "metadata": {},
   "outputs": [
    {
     "ename": "ModuleNotFoundError",
     "evalue": "No module named 'pyodbc'",
     "output_type": "error",
     "traceback": [
      "\u001b[1;31m---------------------------------------------------------------------------\u001b[0m",
      "\u001b[1;31mModuleNotFoundError\u001b[0m                       Traceback (most recent call last)",
      "Cell \u001b[1;32mIn[1], line 37\u001b[0m\n\u001b[0;32m     34\u001b[0m     \u001b[38;5;28;01mreturn\u001b[39;00m sa\u001b[38;5;241m.\u001b[39mcreate_engine(connection_url)\n\u001b[0;32m     36\u001b[0m \u001b[38;5;66;03m# Initialize the MySql Engine using SQL Alchemy\u001b[39;00m\n\u001b[1;32m---> 37\u001b[0m mssql_engine \u001b[38;5;241m=\u001b[39m \u001b[43mcreate_db_engine\u001b[49m\u001b[43m(\u001b[49m\u001b[43mmmai_db_secret\u001b[49m\u001b[43m)\u001b[49m\n\u001b[0;32m     39\u001b[0m \u001b[38;5;66;03m# Read SQL file\u001b[39;00m\n\u001b[0;32m     40\u001b[0m \u001b[38;5;28;01mwith\u001b[39;00m mssql_engine\u001b[38;5;241m.\u001b[39mconnect() \u001b[38;5;28;01mas\u001b[39;00m connection:\n",
      "Cell \u001b[1;32mIn[1], line 34\u001b[0m, in \u001b[0;36mcreate_db_engine\u001b[1;34m(db_config)\u001b[0m\n\u001b[0;32m     21\u001b[0m \u001b[38;5;28;01mdef\u001b[39;00m \u001b[38;5;21mcreate_db_engine\u001b[39m(db_config):\n\u001b[0;32m     22\u001b[0m     connection_url \u001b[38;5;241m=\u001b[39m sa\u001b[38;5;241m.\u001b[39mengine\u001b[38;5;241m.\u001b[39mURL\u001b[38;5;241m.\u001b[39mcreate(\n\u001b[0;32m     23\u001b[0m         drivername \u001b[38;5;241m=\u001b[39m db_config\u001b[38;5;241m.\u001b[39mget(\u001b[38;5;124m\"\u001b[39m\u001b[38;5;124mdrivername\u001b[39m\u001b[38;5;124m\"\u001b[39m),\n\u001b[0;32m     24\u001b[0m         username \u001b[38;5;241m=\u001b[39m db_config\u001b[38;5;241m.\u001b[39mget(\u001b[38;5;124m\"\u001b[39m\u001b[38;5;124musername\u001b[39m\u001b[38;5;124m\"\u001b[39m),\n\u001b[1;32m   (...)\u001b[0m\n\u001b[0;32m     32\u001b[0m         }\n\u001b[0;32m     33\u001b[0m     )\n\u001b[1;32m---> 34\u001b[0m     \u001b[38;5;28;01mreturn\u001b[39;00m \u001b[43msa\u001b[49m\u001b[38;5;241;43m.\u001b[39;49m\u001b[43mcreate_engine\u001b[49m\u001b[43m(\u001b[49m\u001b[43mconnection_url\u001b[49m\u001b[43m)\u001b[49m\n",
      "File \u001b[1;32m<string>:2\u001b[0m, in \u001b[0;36mcreate_engine\u001b[1;34m(url, **kwargs)\u001b[0m\n",
      "File \u001b[1;32mc:\\Users\\Numan\\AppData\\Local\\Programs\\Python\\Python312\\Lib\\site-packages\\sqlalchemy\\util\\deprecations.py:281\u001b[0m, in \u001b[0;36mdeprecated_params.<locals>.decorate.<locals>.warned\u001b[1;34m(fn, *args, **kwargs)\u001b[0m\n\u001b[0;32m    274\u001b[0m     \u001b[38;5;28;01mif\u001b[39;00m m \u001b[38;5;129;01min\u001b[39;00m kwargs:\n\u001b[0;32m    275\u001b[0m         _warn_with_version(\n\u001b[0;32m    276\u001b[0m             messages[m],\n\u001b[0;32m    277\u001b[0m             versions[m],\n\u001b[0;32m    278\u001b[0m             version_warnings[m],\n\u001b[0;32m    279\u001b[0m             stacklevel\u001b[38;5;241m=\u001b[39m\u001b[38;5;241m3\u001b[39m,\n\u001b[0;32m    280\u001b[0m         )\n\u001b[1;32m--> 281\u001b[0m \u001b[38;5;28;01mreturn\u001b[39;00m \u001b[43mfn\u001b[49m\u001b[43m(\u001b[49m\u001b[38;5;241;43m*\u001b[39;49m\u001b[43margs\u001b[49m\u001b[43m,\u001b[49m\u001b[43m \u001b[49m\u001b[38;5;241;43m*\u001b[39;49m\u001b[38;5;241;43m*\u001b[39;49m\u001b[43mkwargs\u001b[49m\u001b[43m)\u001b[49m\n",
      "File \u001b[1;32mc:\\Users\\Numan\\AppData\\Local\\Programs\\Python\\Python312\\Lib\\site-packages\\sqlalchemy\\engine\\create.py:599\u001b[0m, in \u001b[0;36mcreate_engine\u001b[1;34m(url, **kwargs)\u001b[0m\n\u001b[0;32m    597\u001b[0m         \u001b[38;5;28;01mif\u001b[39;00m k \u001b[38;5;129;01min\u001b[39;00m kwargs:\n\u001b[0;32m    598\u001b[0m             dbapi_args[k] \u001b[38;5;241m=\u001b[39m pop_kwarg(k)\n\u001b[1;32m--> 599\u001b[0m     dbapi \u001b[38;5;241m=\u001b[39m \u001b[43mdbapi_meth\u001b[49m\u001b[43m(\u001b[49m\u001b[38;5;241;43m*\u001b[39;49m\u001b[38;5;241;43m*\u001b[39;49m\u001b[43mdbapi_args\u001b[49m\u001b[43m)\u001b[49m\n\u001b[0;32m    601\u001b[0m dialect_args[\u001b[38;5;124m\"\u001b[39m\u001b[38;5;124mdbapi\u001b[39m\u001b[38;5;124m\"\u001b[39m] \u001b[38;5;241m=\u001b[39m dbapi\n\u001b[0;32m    603\u001b[0m dialect_args\u001b[38;5;241m.\u001b[39msetdefault(\u001b[38;5;124m\"\u001b[39m\u001b[38;5;124mcompiler_linting\u001b[39m\u001b[38;5;124m\"\u001b[39m, compiler\u001b[38;5;241m.\u001b[39mNO_LINTING)\n",
      "File \u001b[1;32mc:\\Users\\Numan\\AppData\\Local\\Programs\\Python\\Python312\\Lib\\site-packages\\sqlalchemy\\connectors\\pyodbc.py:60\u001b[0m, in \u001b[0;36mPyODBCConnector.import_dbapi\u001b[1;34m(cls)\u001b[0m\n\u001b[0;32m     58\u001b[0m \u001b[38;5;129m@classmethod\u001b[39m\n\u001b[0;32m     59\u001b[0m \u001b[38;5;28;01mdef\u001b[39;00m \u001b[38;5;21mimport_dbapi\u001b[39m(\u001b[38;5;28mcls\u001b[39m) \u001b[38;5;241m-\u001b[39m\u001b[38;5;241m>\u001b[39m ModuleType:\n\u001b[1;32m---> 60\u001b[0m     \u001b[38;5;28;01mreturn\u001b[39;00m \u001b[38;5;28;43m__import__\u001b[39;49m\u001b[43m(\u001b[49m\u001b[38;5;124;43m\"\u001b[39;49m\u001b[38;5;124;43mpyodbc\u001b[39;49m\u001b[38;5;124;43m\"\u001b[39;49m\u001b[43m)\u001b[49m\n",
      "\u001b[1;31mModuleNotFoundError\u001b[0m: No module named 'pyodbc'"
     ]
    }
   ],
   "source": [
    "# Import Statements\n",
    "import pandas as pd \n",
    "import sqlalchemy as sa \n",
    "\n",
    "# Insert York University username (no email):\n",
    "york_username = \"numane\"\n",
    "\n",
    "# Dictionary - params to set up the DB Engine\n",
    "mmai_db_secret = {\n",
    "    \"database\" : \"mmai_db\",\n",
    "    \"drivername\" : \"mssql+pyodbc\",\n",
    "    \"host\" : \"mmai2024-ms-sql-server.c1oick8a8ywa.ca-central-1.rds.amazonaws.com\",\n",
    "    \"port\" : \"1433\",\n",
    "    \"username\": york_username,\n",
    "    \"password\": \"2024!Schulich\",\n",
    "    \"driver\": \"ODBC Driver 18 for SQL Server\",\n",
    "    \"trust_cert\" : \"yes\"\n",
    "}\n",
    "\n",
    "# Function to create the DB engine - DO NOT TOUCH\n",
    "def create_db_engine(db_config):\n",
    "    connection_url = sa.engine.URL.create(\n",
    "        drivername = db_config.get(\"drivername\"),\n",
    "        username = db_config.get(\"username\"),\n",
    "        password = db_config.get(\"password\"),\n",
    "        host  = db_config.get(\"host\"),\n",
    "        port  = db_config.get(\"port\"),\n",
    "        database  = db_config.get(\"database\"),\n",
    "        query = {\n",
    "            \"driver\" : db_config.get(\"driver\"),\n",
    "            \"TrustServerCertificate\": db_config.get(\"trust_cert\")\n",
    "        }\n",
    "    )\n",
    "    return sa.create_engine(connection_url)\n",
    "\n",
    "# Initialize the MySql Engine using SQL Alchemy\n",
    "mssql_engine = create_db_engine(mmai_db_secret)\n",
    "\n",
    "# Read SQL file\n",
    "with mssql_engine.connect() as connection:\n",
    "    data = pd.read_sql(sql=\"SELECT * FROM assignment01.bakery_sales;\", con=connection)\n",
    "\n",
    "# You can now treat data as a Pandas Dataframe.\n",
    "data.info()\n",
    "\n",
    "data.head(10)"
   ]
  }
 ],
 "metadata": {
  "kernelspec": {
   "display_name": "Python 3",
   "language": "python",
   "name": "python3"
  },
  "language_info": {
   "codemirror_mode": {
    "name": "ipython",
    "version": 3
   },
   "file_extension": ".py",
   "mimetype": "text/x-python",
   "name": "python",
   "nbconvert_exporter": "python",
   "pygments_lexer": "ipython3",
   "version": "3.12.3"
  }
 },
 "nbformat": 4,
 "nbformat_minor": 2
}
