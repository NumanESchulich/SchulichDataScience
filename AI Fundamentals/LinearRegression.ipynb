{
 "cells": [
  {
   "cell_type": "code",
   "execution_count": 7,
   "metadata": {},
   "outputs": [],
   "source": [
    "from pathlib import Path\n",
    "\n",
    "import pandas as pd\n",
    "from sklearn.model_selection import train_test_split\n",
    "from sklearn.linear_model import LinearRegression, Lasso, Ridge, LassoCV, BayesianRidge\n",
    "import statsmodels.formula.api as sm\n",
    "import matplotlib.pylab as plt\n",
    "\n",
    "import dmba\n",
    "from dmba import regressionSummary, exhaustive_search\n",
    "from dmba import backward_elimination, forward_selection, stepwise_selection\n",
    "from dmba import adjusted_r2_score, AIC_score, BIC_score\n",
    "\n",
    "%matplotlib inline"
   ]
  },
  {
   "cell_type": "code",
   "execution_count": 9,
   "metadata": {},
   "outputs": [
    {
     "name": "stdout",
     "output_type": "stream",
     "text": [
      "intercept  -1319.3543800412372\n",
      "           Predictor  coefficient\n",
      "0          Age_08_04  -140.748761\n",
      "1                 KM    -0.017840\n",
      "2                 HP    36.103419\n",
      "3          Met_Color    84.281830\n",
      "4          Automatic   416.781954\n",
      "5                 CC     0.017737\n",
      "6              Doors   -50.657863\n",
      "7      Quarterly_Tax    13.625325\n",
      "8             Weight    13.038711\n",
      "9   Fuel_Type_Diesel  1066.464681\n",
      "10  Fuel_Type_Petrol  2310.249543\n",
      "\n",
      "Regression statistics\n",
      "\n",
      "                      Mean Error (ME) : -0.0000\n",
      "       Root Mean Squared Error (RMSE) : 1400.5823\n",
      "            Mean Absolute Error (MAE) : 1046.9072\n",
      "          Mean Percentage Error (MPE) : -1.0223\n",
      "Mean Absolute Percentage Error (MAPE) : 9.2994\n"
     ]
    }
   ],
   "source": [
    "# Reduce data frame to the top 1000 rows and select columns for regression analysis\n",
    "car_df = dmba.load_data('ToyotaCorolla.csv')\n",
    "car_df = car_df.iloc[0:1000]\n",
    "\n",
    "predictors = ['Age_08_04', 'KM', 'Fuel_Type', 'HP', 'Met_Color', 'Automatic', 'CC', \n",
    "              'Doors', 'Quarterly_Tax', 'Weight']\n",
    "outcome = 'Price'\n",
    "\n",
    "# partition data\n",
    "X = pd.get_dummies(car_df[predictors], drop_first=True)\n",
    "y = car_df[outcome]\n",
    "train_X, valid_X, train_y, valid_y = train_test_split(X, y, test_size=0.4, random_state=1)\n",
    "\n",
    "car_lm = LinearRegression()\n",
    "car_lm.fit(train_X, train_y)\n",
    "\n",
    "# print coefficients\n",
    "print('intercept ', car_lm.intercept_)\n",
    "print(pd.DataFrame({'Predictor': X.columns, 'coefficient': car_lm.coef_}))\n",
    "\n",
    "# print performance measures\n",
    "regressionSummary(train_y, car_lm.predict(train_X))"
   ]
  }
 ],
 "metadata": {
  "kernelspec": {
   "display_name": "Python 3",
   "language": "python",
   "name": "python3"
  },
  "language_info": {
   "codemirror_mode": {
    "name": "ipython",
    "version": 3
   },
   "file_extension": ".py",
   "mimetype": "text/x-python",
   "name": "python",
   "nbconvert_exporter": "python",
   "pygments_lexer": "ipython3",
   "version": "3.12.3"
  }
 },
 "nbformat": 4,
 "nbformat_minor": 2
}
