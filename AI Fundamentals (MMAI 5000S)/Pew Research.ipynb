{
 "cells": [
  {
   "cell_type": "code",
   "execution_count": 41,
   "metadata": {},
   "outputs": [
    {
     "name": "stdout",
     "output_type": "stream",
     "text": [
      "CSV file has been exported to: C:\\Users\\Numan\\filtered_pew_data.csv\n"
     ]
    }
   ],
   "source": [
    "import pandas as pd\n",
    "import os\n",
    "\n",
    "# Read data file\n",
    "df = pd.read_csv(\"https://raw.githubusercontent.com/NumanESchulich/SchulichDataScience/main/AI%20Fundamentals%20(MMAI%205000S)/AI-Human%20Pew%20Data.csv\")\n",
    "\n",
    "# Define the SMALG columns & Demographic Columns\n",
    "smalg_columns = ['SMALG2_W99', 'SMALG4_a_W99', 'SMALG4_b_W99', 'SMALG4_c_W99', \n",
    "                 'SMALG4_d_W99', 'SMALG7_W99', 'SMALG11_W99', 'SMALG12_W99']\n",
    "\n",
    "demographic_columns = ['F_INTFREQ', 'F_RELCOM3CAT', 'F_METRO', 'F_CREGION', 'F_CDIVISION', 'F_AGECAT',\n",
    "                     'F_GENDER', 'F_EDUCCAT', 'F_EDUCCAT2', 'F_HISP', \n",
    "                     'F_YEARSINUS', 'F_RACECMB', 'F_RACETHNMOD', 'F_CITIZEN', 'F_BIRTHPLACE',\n",
    "                     'F_MARITAL', 'F_RELIG', 'F_BORN', 'F_RELIGCAT1', 'F_ATTEND', 'F_RELIMP',\n",
    "                     'F_PRAY', 'F_PARTY_FINAL', 'F_PARTYSUM_FINAL',\n",
    "                     'F_PARTYSUMIDEO_FINAL', 'F_INC_SDT1', 'F_REG', 'F_IDEO', 'F_VOLSUM', 'F_INC_TIER2']\n",
    "\n",
    "# Select the specified columns\n",
    "selected_columns = smalg_columns + demographic_columns\n",
    "\n",
    "df_selected = df[selected_columns]\n",
    "\n",
    "# Rename the new columns to start with \"DEM_\"\n",
    "rename_dict = {col: f\"DEM_{col}\" for col in selected_columns if col.startswith('F_')}\n",
    "df_selected = df_selected.rename(columns=rename_dict)\n",
    "\n",
    "# Filter out null values from SMALG columns\n",
    "df_selected = df_selected.dropna(subset=smalg_columns)\n",
    "\n",
    "# Filter out \"Refused\" responses from SMALG columns\n",
    "for col in smalg_columns:\n",
    "    df_selected = df_selected[df_selected[col] != 'Refused']\n",
    "\n",
    "# Replace nulls and \"Refused\" with specified values for DEM columns\n",
    "df_selected['DEM_F_INTFREQ'] = df_selected['DEM_F_INTFREQ'].replace(['Refused', None, ''], 'Several times a day')\n",
    "df_selected['DEM_F_RELCOM3CAT'] = df_selected['DEM_F_RELCOM3CAT'].replace('DK/Ref', 'Medium')\n",
    "df_selected['DEM_F_AGECAT'] = df_selected['DEM_F_AGECAT'].replace('Refused', '30-49')\n",
    "df_selected['DEM_F_GENDER'] = df_selected['DEM_F_GENDER'].replace('Refused', 'In some other way')\n",
    "\n",
    "# Replace everything not \"Republican\" or \"Democrat\" with \"Other\" in DEM_F_PARTY_FINAL\n",
    "df_selected['DEM_F_PARTY_FINAL'] = df_selected['DEM_F_PARTY_FINAL'].apply(lambda x: x if x in ['Republican', 'Democrat'] else 'Other')\n",
    "\n",
    "# Mapping for specified columns\n",
    "mapping = {\n",
    "    'SMALG2_W99': {'Good idea for society': 1, 'Not sure': 0.5, 'Bad idea for society': 0},\n",
    "    'SMALG4_a_W99': {'Definitely happening': 0, 'Probably happening': 0.33, 'Probably NOT happening': 0.67, 'Definitely NOT happening': 1},\n",
    "    'SMALG4_b_W99': {'Definitely happening': 0, 'Probably happening': 0.33, 'Probably NOT happening': 0.67, 'Definitely NOT happening': 1},\n",
    "    'SMALG4_c_W99': {'Definitely happening': 1, 'Probably happening': 0.67, 'Probably NOT happening': 0.33, 'Definitely NOT happening': 0},\n",
    "    'SMALG4_d_W99': {'Definitely happening': 1, 'Probably happening': 0.67, 'Probably NOT happening': 0.33, 'Definitely NOT happening': 0},\n",
    "    'SMALG7_W99': {'A great deal of confidence': 1, 'A fair amount of confidence': 0.67, 'Not too much confidence': 0.33, 'No confidence at all': 0},\n",
    "    'SMALG11_W99': {'Mostly made by computer programs': 1, 'Not sure': 0.5, 'A mix of both people and computer programs': 0.5, 'Mostly made by people': 0},\n",
    "    'SMALG12_W99': {'A better job than humans': 1, 'About the same job as humans': 0.5, 'Not sure': 0.5, 'A worse job than humans': 0}\n",
    "}\n",
    "\n",
    "# Apply the mappings\n",
    "for col, map_dict in mapping.items():\n",
    "    df_selected[col] = df_selected[col].map(map_dict)\n",
    "\n",
    "# Define the explicit path to the home directory\n",
    "home_path = os.path.expanduser(\"~\")\n",
    "\n",
    "# Define the output file name\n",
    "output_file = \"filtered_pew_data.csv\"\n",
    "\n",
    "# Create the full path for the output file\n",
    "output_path = os.path.join(home_path, output_file)\n",
    "\n",
    "# Export the DataFrame to CSV\n",
    "df_selected.to_csv(output_path, index=False)\n",
    "\n",
    "print(f\"CSV file has been exported to: {output_path}\")"
   ]
  }
 ],
 "metadata": {
  "kernelspec": {
   "display_name": "Python 3",
   "language": "python",
   "name": "python3"
  },
  "language_info": {
   "codemirror_mode": {
    "name": "ipython",
    "version": 3
   },
   "file_extension": ".py",
   "mimetype": "text/x-python",
   "name": "python",
   "nbconvert_exporter": "python",
   "pygments_lexer": "ipython3",
   "version": "3.9.0"
  }
 },
 "nbformat": 4,
 "nbformat_minor": 2
}
