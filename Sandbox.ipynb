{
 "cells": [
  {
   "cell_type": "code",
   "execution_count": 60,
   "metadata": {},
   "outputs": [
    {
     "name": "stdout",
     "output_type": "stream",
     "text": [
      "Mean: 44.11\n",
      "Median: 42.5\n",
      "Mode: 61.0\n",
      "Variance: 230.1\n",
      "Standard Deviation: 15.17\n",
      "CV: 0.34\n",
      "MAD: 13.03\n",
      "Min: 19.0\n",
      "Max: 69.0\n",
      "Range: 50.0\n",
      "Skewness: -0.028 (Left Skewed)\n",
      "Kurtosis: -1.194 (Platykurtic)\n"
     ]
    }
   ],
   "source": [
    "# Import the Pandas & NumPy libraries\n",
    "import pandas as pd\n",
    "import numpy as np\n",
    "import scipy.stats as sp\n",
    "\n",
    "# Read the CSV file into a DataFrame\n",
    "csv = pd.read_csv(r\"C:\\Users\\Numan\\OneDrive\\York University\\1) Data Science I (MBAN 6110T)\\Class 2 - Descriptive Statistics & Probability Theory\\class2_sample_dataset.csv\")\n",
    "\n",
    "# Display the first few rows of the DataFrame\n",
    "    # csv.head(10)\n",
    "\n",
    "# Active Column\n",
    "COL = csv[\"age\"]\n",
    "\n",
    "# Mean\n",
    "print(\"Mean:\", COL.mean().round(2))\n",
    "\n",
    "# Median\n",
    "print(\"Median:\", COL.median().round(2))\n",
    "\n",
    "# Mode\n",
    "mode_series = df['age'].mode().round(2)\n",
    "mode_value = mode_series.iloc[0].round(2)\n",
    "print(\"Mode:\", mode_value)\n",
    "\n",
    "# Variance\n",
    "print(\"Variance:\", COL.var().round(2))\n",
    "\n",
    "# Standard Deviation\n",
    "print(\"Standard Deviation:\", COL.std().round(2))\n",
    "\n",
    "# Coefficient of Variation (CV):\n",
    "print(\"CV:\", (COL.std() / COL.mean()).round(2))\n",
    "\n",
    "# Mean Absolute Deviation (MAD)\n",
    "print(\"MAD:\",np.mean(np.abs(COL - np.mean(COL))).round(2))\n",
    "\n",
    "# Min & Max\n",
    "print(\"Min:\", min(df['age']))\n",
    "print(\"Max:\", max(df['age']))\n",
    "\n",
    "# Range\n",
    "print(\"Range:\", max(df['age']) - min(df['age']))\n",
    "\n",
    "# Skew\n",
    "Skew = sp.skew(COL, nan_policy='omit').round(4)\n",
    "if Skew < 0: Skew_Type = \"(Left Skewed)\" \n",
    "elif Skew > 0: Skew_Type = \"(Right Skewed)\"\n",
    "else: Kurdo_Type = \"(Not Skewed)\"\n",
    "print(\"Skewness:\", Skew, Skew_Type)\n",
    "\n",
    "# Kurtosis\n",
    "Kurdo = sp.kurtosis(COL, nan_policy='omit').round(3)\n",
    "if Kurdo < 0: Kurdo_Type = \"(Platykurtic)\"\n",
    "elif Kurdo > 0: Kurdo_Type = \"(Leptokurtic)\"\n",
    "else: Kurdo_Type = \"(Mesokurtic)\"\n",
    "print(\"Kurtosis:\", Kurdo, Kurdo_Type)"
   ]
  }
 ],
 "metadata": {
  "kernelspec": {
   "display_name": "Python 3",
   "language": "python",
   "name": "python3"
  },
  "language_info": {
   "codemirror_mode": {
    "name": "ipython",
    "version": 3
   },
   "file_extension": ".py",
   "mimetype": "text/x-python",
   "name": "python",
   "nbconvert_exporter": "python",
   "pygments_lexer": "ipython3",
   "version": "3.12.0"
  }
 },
 "nbformat": 4,
 "nbformat_minor": 2
}
