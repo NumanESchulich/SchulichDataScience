{
 "cells": [
  {
   "cell_type": "code",
   "execution_count": 2,
   "metadata": {},
   "outputs": [
    {
     "name": "stdout",
     "output_type": "stream",
     "text": [
      "Summary Statistics:\n",
      "            User_ID          Age  Monthly_Payment  Monthly_Hours_Watched  \\\n",
      "count  1000.000000  1000.000000      1000.000000            1000.000000   \n",
      "mean    500.500000    44.385000        14.580000              19.071653   \n",
      "std     288.819436    15.321669         3.404922              19.279140   \n",
      "min       1.000000    18.000000         9.990000               0.041574   \n",
      "25%     250.750000    31.750000         9.990000               5.490739   \n",
      "50%     500.500000    45.000000        14.990000              13.361219   \n",
      "75%     750.250000    57.000000        14.990000              26.471636   \n",
      "max    1000.000000    70.000000        19.990000             139.170408   \n",
      "\n",
      "       Average_Session_Length   Content_ID  Rating_Given      Churned  \n",
      "count             1000.000000  1000.000000   1000.000000  1000.000000  \n",
      "mean                 1.893771  1049.201000      3.030000     0.246000  \n",
      "std                  1.868852    29.268058      1.422365     0.430894  \n",
      "min                  0.000486  1000.000000      1.000000     0.000000  \n",
      "25%                  0.548918  1023.000000      2.000000     0.000000  \n",
      "50%                  1.271808  1048.000000      3.000000     0.000000  \n",
      "75%                  2.623575  1075.000000      4.000000     0.000000  \n",
      "max                 11.417557  1099.000000      5.000000     1.000000  \n"
     ]
    }
   ],
   "source": [
    "# Import libraries\n",
    "import pandas as pd\n",
    "import numpy as np\n",
    "import matplotlib.pyplot as plt\n",
    "import seaborn as sns\n",
    "import scipy.stats as sp\n",
    "\n",
    "# Load the data from Github Raw\n",
    "df = pd.read_csv('https://raw.githubusercontent.com/delinai/schulich_ds1_2024/main/Datasets/Assignment1_StreamFlow_Subscription_Data.csv')\n",
    "\n",
    "# Summary statistics\n",
    "summary_stats = df.describe()\n",
    "print(\"Summary Statistics:\\n\", summary_stats)"
   ]
  },
  {
   "cell_type": "code",
   "execution_count": null,
   "metadata": {},
   "outputs": [],
   "source": []
  },
  {
   "cell_type": "code",
   "execution_count": null,
   "metadata": {},
   "outputs": [],
   "source": []
  }
 ],
 "metadata": {
  "kernelspec": {
   "display_name": "Python 3",
   "language": "python",
   "name": "python3"
  },
  "language_info": {
   "codemirror_mode": {
    "name": "ipython",
    "version": 3
   },
   "file_extension": ".py",
   "mimetype": "text/x-python",
   "name": "python",
   "nbconvert_exporter": "python",
   "pygments_lexer": "ipython3",
   "version": "3.12.0"
  }
 },
 "nbformat": 4,
 "nbformat_minor": 2
}
