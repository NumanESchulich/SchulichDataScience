{
 "cells": [
  {
   "cell_type": "code",
   "execution_count": 10,
   "metadata": {},
   "outputs": [
    {
     "name": "stdout",
     "output_type": "stream",
     "text": [
      "Mean: 44.11\n",
      "Median: 42.5\n"
     ]
    },
    {
     "ename": "KeyError",
     "evalue": "'age'",
     "output_type": "error",
     "traceback": [
      "\u001b[1;31m---------------------------------------------------------------------------\u001b[0m",
      "\u001b[1;31mKeyError\u001b[0m                                  Traceback (most recent call last)",
      "Cell \u001b[1;32mIn[10], line 22\u001b[0m\n\u001b[0;32m     19\u001b[0m \u001b[38;5;28mprint\u001b[39m(\u001b[38;5;124m\"\u001b[39m\u001b[38;5;124mMedian:\u001b[39m\u001b[38;5;124m\"\u001b[39m, COL\u001b[38;5;241m.\u001b[39mmedian()\u001b[38;5;241m.\u001b[39mround(\u001b[38;5;241m2\u001b[39m))\n\u001b[0;32m     21\u001b[0m \u001b[38;5;66;03m# Mode\u001b[39;00m\n\u001b[1;32m---> 22\u001b[0m mode_series \u001b[38;5;241m=\u001b[39m \u001b[43mCOL\u001b[49m\u001b[43m[\u001b[49m\u001b[38;5;124;43m'\u001b[39;49m\u001b[38;5;124;43mage\u001b[39;49m\u001b[38;5;124;43m'\u001b[39;49m\u001b[43m]\u001b[49m\u001b[38;5;241m.\u001b[39mmode()\u001b[38;5;241m.\u001b[39mround(\u001b[38;5;241m2\u001b[39m)\n\u001b[0;32m     23\u001b[0m mode_value \u001b[38;5;241m=\u001b[39m mode_series\u001b[38;5;241m.\u001b[39miloc[\u001b[38;5;241m0\u001b[39m]\u001b[38;5;241m.\u001b[39mround(\u001b[38;5;241m2\u001b[39m)\n\u001b[0;32m     24\u001b[0m \u001b[38;5;28mprint\u001b[39m(\u001b[38;5;124m\"\u001b[39m\u001b[38;5;124mMode:\u001b[39m\u001b[38;5;124m\"\u001b[39m, mode_value)\n",
      "File \u001b[1;32mc:\\Users\\Numan\\AppData\\Local\\Programs\\Python\\Python312\\Lib\\site-packages\\pandas\\core\\series.py:1121\u001b[0m, in \u001b[0;36mSeries.__getitem__\u001b[1;34m(self, key)\u001b[0m\n\u001b[0;32m   1118\u001b[0m     \u001b[38;5;28;01mreturn\u001b[39;00m \u001b[38;5;28mself\u001b[39m\u001b[38;5;241m.\u001b[39m_values[key]\n\u001b[0;32m   1120\u001b[0m \u001b[38;5;28;01melif\u001b[39;00m key_is_scalar:\n\u001b[1;32m-> 1121\u001b[0m     \u001b[38;5;28;01mreturn\u001b[39;00m \u001b[38;5;28;43mself\u001b[39;49m\u001b[38;5;241;43m.\u001b[39;49m\u001b[43m_get_value\u001b[49m\u001b[43m(\u001b[49m\u001b[43mkey\u001b[49m\u001b[43m)\u001b[49m\n\u001b[0;32m   1123\u001b[0m \u001b[38;5;66;03m# Convert generator to list before going through hashable part\u001b[39;00m\n\u001b[0;32m   1124\u001b[0m \u001b[38;5;66;03m# (We will iterate through the generator there to check for slices)\u001b[39;00m\n\u001b[0;32m   1125\u001b[0m \u001b[38;5;28;01mif\u001b[39;00m is_iterator(key):\n",
      "File \u001b[1;32mc:\\Users\\Numan\\AppData\\Local\\Programs\\Python\\Python312\\Lib\\site-packages\\pandas\\core\\series.py:1237\u001b[0m, in \u001b[0;36mSeries._get_value\u001b[1;34m(self, label, takeable)\u001b[0m\n\u001b[0;32m   1234\u001b[0m     \u001b[38;5;28;01mreturn\u001b[39;00m \u001b[38;5;28mself\u001b[39m\u001b[38;5;241m.\u001b[39m_values[label]\n\u001b[0;32m   1236\u001b[0m \u001b[38;5;66;03m# Similar to Index.get_value, but we do not fall back to positional\u001b[39;00m\n\u001b[1;32m-> 1237\u001b[0m loc \u001b[38;5;241m=\u001b[39m \u001b[38;5;28;43mself\u001b[39;49m\u001b[38;5;241;43m.\u001b[39;49m\u001b[43mindex\u001b[49m\u001b[38;5;241;43m.\u001b[39;49m\u001b[43mget_loc\u001b[49m\u001b[43m(\u001b[49m\u001b[43mlabel\u001b[49m\u001b[43m)\u001b[49m\n\u001b[0;32m   1239\u001b[0m \u001b[38;5;28;01mif\u001b[39;00m is_integer(loc):\n\u001b[0;32m   1240\u001b[0m     \u001b[38;5;28;01mreturn\u001b[39;00m \u001b[38;5;28mself\u001b[39m\u001b[38;5;241m.\u001b[39m_values[loc]\n",
      "File \u001b[1;32mc:\\Users\\Numan\\AppData\\Local\\Programs\\Python\\Python312\\Lib\\site-packages\\pandas\\core\\indexes\\range.py:417\u001b[0m, in \u001b[0;36mRangeIndex.get_loc\u001b[1;34m(self, key)\u001b[0m\n\u001b[0;32m    415\u001b[0m         \u001b[38;5;28;01mraise\u001b[39;00m \u001b[38;5;167;01mKeyError\u001b[39;00m(key) \u001b[38;5;28;01mfrom\u001b[39;00m \u001b[38;5;21;01merr\u001b[39;00m\n\u001b[0;32m    416\u001b[0m \u001b[38;5;28;01mif\u001b[39;00m \u001b[38;5;28misinstance\u001b[39m(key, Hashable):\n\u001b[1;32m--> 417\u001b[0m     \u001b[38;5;28;01mraise\u001b[39;00m \u001b[38;5;167;01mKeyError\u001b[39;00m(key)\n\u001b[0;32m    418\u001b[0m \u001b[38;5;28mself\u001b[39m\u001b[38;5;241m.\u001b[39m_check_indexing_error(key)\n\u001b[0;32m    419\u001b[0m \u001b[38;5;28;01mraise\u001b[39;00m \u001b[38;5;167;01mKeyError\u001b[39;00m(key)\n",
      "\u001b[1;31mKeyError\u001b[0m: 'age'"
     ]
    }
   ],
   "source": [
    "# Import the Pandas & NumPy libraries\n",
    "import pandas as pd\n",
    "import numpy as np\n",
    "import scipy.stats as sp\n",
    "\n",
    "# Read the CSV file into a DataFrame\n",
    "csv = pd.read_csv(r\"C:\\Users\\Numan\\OneDrive\\York University\\1) Data Science I (MBAN 6110T)\\Class 2 - Descriptive Statistics & Probability Theory\\class2_sample_dataset.csv\")\n",
    "\n",
    "# Display the first few rows of the DataFrame\n",
    "    # csv.head(10)\n",
    "\n",
    "# Active Column\n",
    "COL = csv[\"age\"]\n",
    "\n",
    "# Mean\n",
    "print(\"Mean:\", COL.mean().round(2))\n",
    "\n",
    "# Median\n",
    "print(\"Median:\", COL.median().round(2))\n",
    "\n",
    "# Mode\n",
    "mode_series = COL['age'].mode().round(2)\n",
    "mode_value = mode_series.iloc[0].round(2)\n",
    "print(\"Mode:\", mode_value)\n",
    "\n",
    "# Variance\n",
    "print(\"Variance:\", COL.var().round(2))\n",
    "\n",
    "# Standard Deviation\n",
    "print(\"Standard Deviation:\", COL.std().round(2))\n",
    "\n",
    "# Coefficient of Variation (CV):\n",
    "print(\"CV:\", (COL.std() / COL.mean()).round(2))\n",
    "\n",
    "# Mean Absolute Deviation (MAD)\n",
    "print(\"MAD:\",np.mean(np.abs(COL - np.mean(COL))).round(2))\n",
    "\n",
    "# Min & Max\n",
    "print(\"Min:\", min(COL['age']))\n",
    "print(\"Max:\", max(COL['age']))\n",
    "\n",
    "# Range\n",
    "print(\"Range:\", max(COL['age']) - min(COL['age']))\n",
    "\n",
    "# Skew\n",
    "Skew = sp.skew(COL, nan_policy='omit').round(4)\n",
    "if Skew < 0: Skew_Type = \"(Left Skewed)\" \n",
    "elif Skew > 0: Skew_Type = \"(Right Skewed)\"\n",
    "else: Kurdo_Type = \"(Not Skewed)\"\n",
    "print(\"Skewness:\", Skew, Skew_Type)\n",
    "\n",
    "# Kurtosis\n",
    "Kurdo = sp.kurtosis(COL, nan_policy='omit').round(3)\n",
    "if Kurdo < 0: Kurdo_Type = \"(Platykurtic)\"\n",
    "elif Kurdo > 0: Kurdo_Type = \"(Leptokurtic)\"\n",
    "else: Kurdo_Type = \"(Mesokurtic)\"\n",
    "print(\"Kurtosis:\", Kurdo, Kurdo_Type)"
   ]
  },
  {
   "cell_type": "code",
   "execution_count": null,
   "metadata": {},
   "outputs": [],
   "source": []
  }
 ],
 "metadata": {
  "kernelspec": {
   "display_name": "Python 3",
   "language": "python",
   "name": "python3"
  },
  "language_info": {
   "codemirror_mode": {
    "name": "ipython",
    "version": 3
   },
   "file_extension": ".py",
   "mimetype": "text/x-python",
   "name": "python",
   "nbconvert_exporter": "python",
   "pygments_lexer": "ipython3",
   "version": "3.12.3"
  }
 },
 "nbformat": 4,
 "nbformat_minor": 2
}
